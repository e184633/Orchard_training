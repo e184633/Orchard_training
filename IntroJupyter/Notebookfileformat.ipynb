{
 "cells": [
  {
   "cell_type": "markdown",
   "metadata": {
    "heading_collapsed": true,
    "slideshow": {
     "slide_type": "slide"
    }
   },
   "source": [
    "# Notebook file format\n",
    "\n",
    "Notebooks are stored on disk as JSON files. JSON is a really simple way of representing data: it looks exactly like Python lists and dictionaries, so you already know how to read it.\n",
    "\n",
    "```javascript\n",
    "{\n",
    "  \"key\": \"value\",\n",
    "  \"ultimate answer\": 42,\n",
    "  \"lists\": [\"like\", \"this\"]\n",
    "}\n",
    "```\n",
    "\n",
    "At the top level of the notebook file there are four fields:\n",
    "\n",
    "* `nbformat` & `nbformat_minor`: The version of the format this notebook is stored in. The current version is 4.2.\n",
    "* `metadata`: Information about the notebook, like the language it's written in.\n",
    "* `cells`: List of cells with the notebook content\n",
    "\n",
    "```javascript\n",
    "{\n",
    "  \"nbformat\": 4,\n",
    "  \"nbformat_minor\": 2,\n",
    "  \"metadata\": {\n",
    "    \"language_info\": {\n",
    "      \"name\": \"python\"\n",
    "      ...\n",
    "    }\n",
    "  },\n",
    "  \"cells\": [...]\n",
    "}\n",
    "```   "
   ]
  },
  {
   "cell_type": "markdown",
   "metadata": {
    "hidden": true,
    "slideshow": {
     "slide_type": "slide"
    }
   },
   "source": [
    "## Challenges\n",
    "\n",
    "Open the notebooks in this directory in your text editor and look at the structure.\n",
    "\n",
    "1. What distinguishes a markdown cell from a code cell?\n",
    "2. How many different kinds of output can you see?\n",
    "\n",
    "The [notebook format documentation](http://ipython.org/ipython-doc/3/notebook/nbformat.html) has the answers. It describes the structure of notebook files in detail."
   ]
  },
  {
   "cell_type": "markdown",
   "metadata": {
    "hidden": true,
    "slideshow": {
     "slide_type": "slide"
    }
   },
   "source": [
    "## Manipulating notebooks in Python code\n",
    "\n",
    "The `nbformat` package has functions to load and save notebooks, convert between different versions of the format, and validate notebooks against the specification."
   ]
  },
  {
   "cell_type": "code",
   "execution_count": null,
   "metadata": {
    "hidden": true,
    "slideshow": {
     "slide_type": "fragment"
    }
   },
   "outputs": [],
   "source": [
    "import nbformat\n",
    "nb = nbformat.read('Notebook file format.ipynb', as_version=4)"
   ]
  },
  {
   "cell_type": "code",
   "execution_count": null,
   "metadata": {
    "hidden": true,
    "slideshow": {
     "slide_type": "fragment"
    }
   },
   "outputs": [],
   "source": [
    "print(nb.cells[2].source)"
   ]
  },
  {
   "cell_type": "code",
   "execution_count": null,
   "metadata": {
    "hidden": true,
    "slideshow": {
     "slide_type": "fragment"
    }
   },
   "outputs": [],
   "source": [
    "# Run this, then reload the page to see the change\n",
    "nb.cells.append(nbformat.v4.new_markdown_cell('**Look at me!**'))\n",
    "nbformat.write(nb, 'Notebook file format.ipynb')"
   ]
  },
  {
   "cell_type": "markdown",
   "metadata": {
    "hidden": true,
    "slideshow": {
     "slide_type": "fragment"
    }
   },
   "source": [
    "Next: [nbconvert](Nbconvert%20templates.ipynb)"
   ]
  },
  {
   "cell_type": "markdown",
   "metadata": {},
   "source": [
    "**Look at me!**"
   ]
  },
  {
   "cell_type": "markdown",
   "metadata": {},
   "source": [
    "**Look at me!**"
   ]
  }
 ],
 "metadata": {
  "celltoolbar": "Slideshow",
  "hide_input": false,
  "kernelspec": {
   "display_name": "Python 3",
   "language": "python",
   "name": "python3"
  },
  "language_info": {
   "codemirror_mode": {
    "name": "ipython",
    "version": 3
   },
   "file_extension": ".py",
   "mimetype": "text/x-python",
   "name": "python",
   "nbconvert_exporter": "python",
   "pygments_lexer": "ipython3",
   "version": "3.6.8"
  },
  "toc": {
   "base_numbering": 1,
   "nav_menu": {},
   "number_sections": true,
   "sideBar": true,
   "skip_h1_title": true,
   "title_cell": "Table of Contents",
   "title_sidebar": "Contents",
   "toc_cell": false,
   "toc_position": {},
   "toc_section_display": true,
   "toc_window_display": false
  },
  "varInspector": {
   "cols": {
    "lenName": 16,
    "lenType": 16,
    "lenVar": 40
   },
   "kernels_config": {
    "python": {
     "delete_cmd_postfix": "",
     "delete_cmd_prefix": "del ",
     "library": "var_list.py",
     "varRefreshCmd": "print(var_dic_list())"
    },
    "r": {
     "delete_cmd_postfix": ") ",
     "delete_cmd_prefix": "rm(",
     "library": "var_list.r",
     "varRefreshCmd": "cat(var_dic_list()) "
    }
   },
   "types_to_exclude": [
    "module",
    "function",
    "builtin_function_or_method",
    "instance",
    "_Feature"
   ],
   "window_display": false
  }
 },
 "nbformat": 4,
 "nbformat_minor": 1
}
