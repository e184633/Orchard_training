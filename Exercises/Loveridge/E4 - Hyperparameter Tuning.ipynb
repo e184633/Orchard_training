{
 "cells": [
  {
   "cell_type": "markdown",
   "metadata": {},
   "source": [
    "# Exercise 4 - Hyperparameter Tuning"
   ]
  },
  {
   "cell_type": "markdown",
   "metadata": {},
   "source": [
    "## Original"
   ]
  },
  {
   "cell_type": "markdown",
   "metadata": {},
   "source": [
    "Below is the original exercise"
   ]
  },
  {
   "cell_type": "code",
   "execution_count": 1,
   "metadata": {},
   "outputs": [],
   "source": [
    "from sklearn import datasets\n",
    "from sklearn.model_selection import GridSearchCV\n",
    "from sklearn.ensemble import GradientBoostingClassifier\n",
    "from sklearn.model_selection import cross_val_score"
   ]
  },
  {
   "cell_type": "code",
   "execution_count": 2,
   "metadata": {},
   "outputs": [],
   "source": [
    "iris = datasets.load_iris()\n",
    "gbc = GradientBoostingClassifier()\n",
    "parameters = {'learning_rate':[0.01, 0.05, 0.1, 0.5, 1], \n",
    "              'min_samples_split':[2,5,10,20], \n",
    "              'max_depth':[2,3,5,10]}"
   ]
  },
  {
   "cell_type": "code",
   "execution_count": 3,
   "metadata": {},
   "outputs": [
    {
     "name": "stdout",
     "output_type": "stream",
     "text": [
      "{'learning_rate': 0.01, 'max_depth': 3, 'min_samples_split': 5}\n"
     ]
    }
   ],
   "source": [
    "clf = GridSearchCV(gbc, parameters, cv=5)\n",
    "clf.fit(iris.data, iris.target)\n",
    "print(clf.best_params_)\n",
    "# {'learning_rate': 1, 'max_depth': 2, 'min_samples_split': 2}"
   ]
  },
  {
   "cell_type": "code",
   "execution_count": 4,
   "metadata": {},
   "outputs": [],
   "source": [
    "from sklearn.model_selection import train_test_split"
   ]
  },
  {
   "cell_type": "code",
   "execution_count": 5,
   "metadata": {},
   "outputs": [
    {
     "data": {
      "text/plain": [
       "GridSearchCV(cv=3, error_score='raise-deprecating',\n",
       "       estimator=GradientBoostingClassifier(criterion='friedman_mse', init=None,\n",
       "              learning_rate=0.1, loss='deviance', max_depth=3,\n",
       "              max_features=None, max_leaf_nodes=None,\n",
       "              min_impurity_decrease=0.0, min_impurity_split=None,\n",
       "              min_samples_leaf=1, min_sampl...      subsample=1.0, tol=0.0001, validation_fraction=0.1,\n",
       "              verbose=0, warm_start=False),\n",
       "       fit_params=None, iid=False, n_jobs=None,\n",
       "       param_grid={'learning_rate': [0.01, 0.05, 0.1, 0.5, 1], 'min_samples_split': [2, 5, 10, 20], 'max_depth': [2, 3, 5, 10]},\n",
       "       pre_dispatch='2*n_jobs', refit=True, return_train_score='warn',\n",
       "       scoring=None, verbose=0)"
      ]
     },
     "execution_count": 5,
     "metadata": {},
     "output_type": "execute_result"
    }
   ],
   "source": [
    "X_train, X_test, y_train, y_test = train_test_split(iris.data, iris.target, \n",
    "                                                 test_size=0.33, \n",
    "                                                 random_state=42)\n",
    "\n",
    "clf = GridSearchCV(gbc, parameters, cv=3, iid=False)\n",
    "clf.fit(X_train, y_train)"
   ]
  },
  {
   "cell_type": "code",
   "execution_count": 6,
   "metadata": {},
   "outputs": [
    {
     "name": "stdout",
     "output_type": "stream",
     "text": [
      "{'learning_rate': 0.05, 'max_depth': 10, 'min_samples_split': 2}\n"
     ]
    }
   ],
   "source": [
    "print(clf.best_params_)\n",
    "# {'learning_rate': 0.01, 'max_depth': 5, 'min_samples_split': 2}"
   ]
  },
  {
   "cell_type": "code",
   "execution_count": 7,
   "metadata": {},
   "outputs": [
    {
     "data": {
      "text/plain": [
       "array([1.        , 0.8       , 0.9       , 1.        , 0.94736842])"
      ]
     },
     "execution_count": 7,
     "metadata": {},
     "output_type": "execute_result"
    }
   ],
   "source": [
    "clf.best_score_\n",
    "# 0.95\n",
    "cross_val_score(estimator=clf.best_estimator_, X=X_train, y=y_train, cv=5)  \n",
    "# array([1.        , 0.8       , 0.95      , 1.        , 0.94736842])"
   ]
  },
  {
   "cell_type": "markdown",
   "metadata": {},
   "source": [
    "## Exercise"
   ]
  },
  {
   "cell_type": "markdown",
   "metadata": {},
   "source": [
    "The following is the solution to the exercise. Rather than using GraidentBoostingClassifier, RandomForestClassifier is used instead."
   ]
  },
  {
   "cell_type": "code",
   "execution_count": 29,
   "metadata": {},
   "outputs": [],
   "source": [
    "# Import from sklearn\n",
    "from sklearn import datasets\n",
    "from sklearn.ensemble import RandomForestClassifier\n",
    "from sklearn.model_selection import GridSearchCV\n",
    "from sklearn.model_selection import cross_val_score\n",
    "from sklearn.model_selection import train_test_split\n",
    "from numpy import mean"
   ]
  },
  {
   "cell_type": "code",
   "execution_count": 42,
   "metadata": {},
   "outputs": [],
   "source": [
    "# Use RandomForestClassifier as our estimator and assign parameter values\n",
    "rfc = RandomForestClassifier(random_state=42, n_jobs=1, n_estimators=100)\n",
    "rf_parameters = {'max_depth':[2,3,5,10],\n",
    "                 'n_estimators':[4,6,8,11],\n",
    "                 'min_samples_split':[2,5,7,9],\n",
    "                 'max_leaf_nodes':[None,2,3,4],\n",
    "                 'max_features':[None,'auto','log2',0.5,1,2,3,4]}"
   ]
  },
  {
   "cell_type": "code",
   "execution_count": 43,
   "metadata": {},
   "outputs": [],
   "source": [
    "# Load dataset and apply it and parameters to GridSearchCV\n",
    "rf_iris = datasets.load_iris()\n",
    "rf_clf = GridSearchCV(rfc, rf_parameters, cv=5)"
   ]
  },
  {
   "cell_type": "code",
   "execution_count": 44,
   "metadata": {},
   "outputs": [
    {
     "data": {
      "text/plain": [
       "GridSearchCV(cv=5, error_score='raise-deprecating',\n",
       "       estimator=RandomForestClassifier(bootstrap=True, class_weight=None, criterion='gini',\n",
       "            max_depth=None, max_features='auto', max_leaf_nodes=None,\n",
       "            min_impurity_decrease=0.0, min_impurity_split=None,\n",
       "            min_samples_leaf=1, min_samples_split=2,\n",
       "            min_weight_fraction_leaf=0.0, n_estimators=100, n_jobs=1,\n",
       "            oob_score=False, random_state=42, verbose=0, warm_start=False),\n",
       "       fit_params=None, iid='warn', n_jobs=None,\n",
       "       param_grid={'max_depth': [2, 3, 5, 10], 'n_estimators': [4, 6, 8, 11], 'min_samples_split': [2, 5, 7, 9], 'max_leaf_nodes': [None, 2, 3, 4], 'max_features': [None, 'auto', 'log2', 0.5, 1, 2, 3, 4]},\n",
       "       pre_dispatch='2*n_jobs', refit=True, return_train_score='warn',\n",
       "       scoring=None, verbose=0)"
      ]
     },
     "execution_count": 44,
     "metadata": {},
     "output_type": "execute_result"
    }
   ],
   "source": [
    "# Training via fit\n",
    "rf_clf.fit(rf_iris.data, rf_iris.target) "
   ]
  },
  {
   "cell_type": "code",
   "execution_count": 45,
   "metadata": {},
   "outputs": [
    {
     "name": "stdout",
     "output_type": "stream",
     "text": [
      "{'max_depth': 2, 'max_features': None, 'max_leaf_nodes': 4, 'min_samples_split': 2, 'n_estimators': 8}\n"
     ]
    }
   ],
   "source": [
    "# Print the best parameters\n",
    "print(rf_clf.best_params_)"
   ]
  },
  {
   "cell_type": "code",
   "execution_count": 46,
   "metadata": {},
   "outputs": [
    {
     "name": "stdout",
     "output_type": "stream",
     "text": [
      "{'max_depth': 2, 'max_features': None, 'max_leaf_nodes': 2, 'min_samples_split': 2, 'n_estimators': 6}\n"
     ]
    }
   ],
   "source": [
    "# Train the data using train_test_split \n",
    "rf_X_train, rf_X_test, rf_y_train, rf_y_test = train_test_split(rf_iris.data, rf_iris.target, \n",
    "                                                 test_size=0.33, \n",
    "                                                 random_state=42)\n",
    "\n",
    "rf_clf = GridSearchCV(rfc, rf_parameters, cv=3, iid=False)\n",
    "rf_clf.fit(rf_X_train, rf_y_train)\n",
    "\n",
    "# Print the best parameters\n",
    "print(rf_clf.best_params_)"
   ]
  },
  {
   "cell_type": "code",
   "execution_count": 47,
   "metadata": {},
   "outputs": [
    {
     "data": {
      "text/plain": [
       "0.9491792929292929"
      ]
     },
     "execution_count": 47,
     "metadata": {},
     "output_type": "execute_result"
    }
   ],
   "source": [
    "# Return the best score\n",
    "rf_clf.best_score_"
   ]
  },
  {
   "cell_type": "code",
   "execution_count": 48,
   "metadata": {},
   "outputs": [
    {
     "data": {
      "text/plain": [
       "array([1.        , 0.8       , 0.65      , 0.95      , 0.89473684])"
      ]
     },
     "execution_count": 48,
     "metadata": {},
     "output_type": "execute_result"
    }
   ],
   "source": [
    "# Return cross value score\n",
    "cross_val_score(estimator=rf_clf.best_estimator_, X=rf_X_train, y=rf_y_train, cv=5)  "
   ]
  },
  {
   "cell_type": "code",
   "execution_count": 49,
   "metadata": {},
   "outputs": [
    {
     "data": {
      "text/plain": [
       "0.8589473684210527"
      ]
     },
     "execution_count": 49,
     "metadata": {},
     "output_type": "execute_result"
    }
   ],
   "source": [
    "# Determine the mean value\n",
    "mean(cross_val_score(estimator=rf_clf.best_estimator_, X=rf_X_train, y=rf_y_train, cv=5))"
   ]
  },
  {
   "cell_type": "code",
   "execution_count": 50,
   "metadata": {},
   "outputs": [
    {
     "data": {
      "text/plain": [
       "{'max_depth': [2, 3, 5, 10],\n",
       " 'n_estimators': [4, 6, 8, 11],\n",
       " 'min_samples_split': [2, 5, 7, 9],\n",
       " 'max_leaf_nodes': [None, 2, 3, 4],\n",
       " 'max_features': [None, 'auto', 'log2', 0.5, 1, 2, 3, 4]}"
      ]
     },
     "execution_count": 50,
     "metadata": {},
     "output_type": "execute_result"
    }
   ],
   "source": [
    "# Return param_grid\n",
    "rf_clf.param_grid"
   ]
  },
  {
   "cell_type": "code",
   "execution_count": null,
   "metadata": {},
   "outputs": [],
   "source": []
  }
 ],
 "metadata": {
  "kernelspec": {
   "display_name": "Python 3",
   "language": "python",
   "name": "python3"
  },
  "language_info": {
   "codemirror_mode": {
    "name": "ipython",
    "version": 3
   },
   "file_extension": ".py",
   "mimetype": "text/x-python",
   "name": "python",
   "nbconvert_exporter": "python",
   "pygments_lexer": "ipython3",
   "version": "3.7.1"
  }
 },
 "nbformat": 4,
 "nbformat_minor": 2
}
