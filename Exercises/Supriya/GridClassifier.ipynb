{
 "cells": [
  {
   "cell_type": "code",
   "execution_count": 13,
   "metadata": {},
   "outputs": [
    {
     "name": "stdout",
     "output_type": "stream",
     "text": [
      "{'learning_rate': 0.01, 'max_depth': 3, 'min_samples_split': 5}\n"
     ]
    },
    {
     "name": "stderr",
     "output_type": "stream",
     "text": [
      "C:\\Users\\supriya\\AppData\\Local\\Continuum\\anaconda3\\lib\\site-packages\\sklearn\\model_selection\\_search.py:841: DeprecationWarning: The default of the `iid` parameter will change from True to False in version 0.22 and will be removed in 0.24. This will change numeric results when test-set sizes are unequal.\n",
      "  DeprecationWarning)\n"
     ]
    },
    {
     "name": "stdout",
     "output_type": "stream",
     "text": [
      "{'learning_rate': 0.01, 'max_depth': 2, 'min_samples_split': 20}\n"
     ]
    },
    {
     "data": {
      "text/plain": [
       "array([1.        , 0.8       , 0.95      , 1.        , 0.94736842])"
      ]
     },
     "execution_count": 13,
     "metadata": {},
     "output_type": "execute_result"
    }
   ],
   "source": [
    "from sklearn import datasets\n",
    "from sklearn.model_selection import GridSearchCV\n",
    "from sklearn.ensemble import GradientBoostingClassifier\n",
    "\n",
    "iris = datasets.load_iris()\n",
    "gbc = GradientBoostingClassifier()\n",
    "parameters = {'learning_rate':[0.01, 0.05, 0.1, 0.5, 1], \n",
    "              'min_samples_split':[2,5,10,20], \n",
    "              'max_depth':[2,3,5,10]}\n",
    "\n",
    "clf = GridSearchCV(gbc, parameters, cv=5)\n",
    "clf.fit(iris.data, iris.target)\n",
    "\n",
    "print(clf.best_params_)\n",
    "# {'learning_rate': 1, 'max_depth': 2, 'min_samples_split': 2}\n",
    "\n",
    "\n",
    "from sklearn.model_selection import train_test_split\n",
    "\n",
    "X_train, X_test, y_train, y_test = train_test_split(iris.data, iris.target, \n",
    "                                                 test_size=0.33, \n",
    "                                                 random_state=42)\n",
    "\n",
    "clf = GridSearchCV(gbc, parameters, cv=3)\n",
    "clf.fit(X_train, y_train)\n",
    "\n",
    "print(clf.best_params_)\n",
    "# {'learning_rate': 0.01, 'max_depth': 5, 'min_samples_split': 2}\n",
    "\n",
    "clf.best_score_\n",
    "# 0.95\n",
    "\n",
    "from sklearn.model_selection import cross_val_score\n",
    "cross_val_score(estimator=clf.best_estimator_, X=X_train, y=y_train, cv=5)  \n",
    "# array([1.        , 0.8       , 0.95      , 1.        , 0.94736842])\n"
   ]
  },
  {
   "cell_type": "code",
   "execution_count": 18,
   "metadata": {},
   "outputs": [
    {
     "data": {
      "text/plain": [
       "GridSearchCV(cv=3, error_score='raise-deprecating',\n",
       "       estimator=RandomForestClassifier(bootstrap=True, class_weight=None, criterion='gini',\n",
       "            max_depth=None, max_features='auto', max_leaf_nodes=None,\n",
       "            min_impurity_decrease=0.0, min_impurity_split=None,\n",
       "            min_samples_leaf=1, min_samples_split=2,\n",
       "            min_weight_fraction_leaf=0.0, n_estimators=100, n_jobs=None,\n",
       "            oob_score=False, random_state=42, verbose=0, warm_start=False),\n",
       "       fit_params=None, iid=False, n_jobs=None,\n",
       "       param_grid={'min_samples_split': [2, 5, 10, 20], 'max_features': [2, 3, 4], 'max_depth': [2, 3, 5, 10]},\n",
       "       pre_dispatch='2*n_jobs', refit=True, return_train_score='warn',\n",
       "       scoring=None, verbose=0)"
      ]
     },
     "execution_count": 18,
     "metadata": {},
     "output_type": "execute_result"
    }
   ],
   "source": [
    "from sklearn import datasets\n",
    "from sklearn.ensemble import RandomForestClassifier\n",
    "\n",
    "iris = datasets.load_iris()\n",
    "rf = RandomForestClassifier(n_estimators=100,\n",
    "                              random_state=42)\n",
    "parameters = {'min_samples_split':[2,5,10,20],\n",
    "              'max_depth':[2,3,5,10]}\n",
    "X_train, X_test, y_train, y_test = train_test_split(iris.data, iris.target, \n",
    "                                                  test_size=0.33, \n",
    "                                                  random_state=42)\n",
    "\n",
    "grid_search = GridSearchCV(rf, parameters, cv=3, iid=False)\n",
    "grid_search.fit(X_train, y_train)\n",
    "\n",
    "print(grid_search.best_params_)\n",
    "grid_search.best_score_\n",
    "from sklearn.model_selection import cross_val_score\n",
    "cross_val_score(estimator=grid_search.best_estimator_, X=X_train, y=y_train, cv=5)  \n",
    "\n"
   ]
  },
  {
   "cell_type": "code",
   "execution_count": 5,
   "metadata": {},
   "outputs": [
    {
     "data": {
      "text/plain": [
       "0.94"
      ]
     },
     "execution_count": 5,
     "metadata": {},
     "output_type": "execute_result"
    }
   ],
   "source": []
  },
  {
   "cell_type": "code",
   "execution_count": null,
   "metadata": {},
   "outputs": [],
   "source": []
  }
 ],
 "metadata": {
  "kernelspec": {
   "display_name": "Python 3",
   "language": "python",
   "name": "python3"
  },
  "language_info": {
   "codemirror_mode": {
    "name": "ipython",
    "version": 3
   },
   "file_extension": ".py",
   "mimetype": "text/x-python",
   "name": "python",
   "nbconvert_exporter": "python",
   "pygments_lexer": "ipython3",
   "version": "3.7.1"
  }
 },
 "nbformat": 4,
 "nbformat_minor": 2
}
