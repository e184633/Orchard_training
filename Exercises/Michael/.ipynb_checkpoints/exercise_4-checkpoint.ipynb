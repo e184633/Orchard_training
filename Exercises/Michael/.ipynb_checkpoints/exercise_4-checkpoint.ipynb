{
 "cells": [
  {
   "cell_type": "code",
   "execution_count": null,
   "metadata": {},
   "outputs": [],
   "source": [
    "from sklearn import datasets\n",
    "from sklearn.model_selection import GridSearchCV\n",
    "from sklearn.ensemble import GradientBoostingClassifier\n",
    "iris = datasets.load_iris()\n",
    "gbc = GradientBoostingClassifier()\n",
    "parameters = {'learning_rate':[0.01, 0.05, 0.1, 0.5, 1],\n",
    "'min_samples_split':[2,5,10,20],\n",
    "'max_depth':[2,3,5,10]}\n",
    "clf = GridSearchCV(gbc, parameters, cv=5)\n",
    "clf.fit(iris.data, iris.target)\n",
    "print(clf.best_params_)\n",
    "# {'learning_rate': 1, 'max_depth': 2, 'min_samples_split': 2}\n",
    "from sklearn.model_selection import train_test_split\n",
    "X_train, X_test, y_train, y_test = train_test_split(iris.data, iris.target,\n",
    "\n",
    "test_size=0.33,\n",
    "random_state=42)\n",
    "clf = GridSearchCV(gbc, parameters, cv=3)\n",
    "clf.fit(X_train, y_train)\n",
    "print(clf.best_params_)\n",
    "# {'learning_rate': 0.01, 'max_depth': 5, 'min_samples_split': 2}\n",
    "clf.best_score_\n",
    "# 0.95\n",
    "cross_val_score(estimator=clf.best_estimator_, X=X_train, y=y_train, cv=5)\n",
    "# array([1. , 0.8 , 0.95 , 1. , 0.94736842])"
   ]
  }
 ],
 "metadata": {
  "kernelspec": {
   "display_name": "Python 3",
   "language": "python",
   "name": "python3"
  },
  "language_info": {
   "codemirror_mode": {
    "name": "ipython",
    "version": 3
   },
   "file_extension": ".py",
   "mimetype": "text/x-python",
   "name": "python",
   "nbconvert_exporter": "python",
   "pygments_lexer": "ipython3",
   "version": "3.7.1"
  }
 },
 "nbformat": 4,
 "nbformat_minor": 2
}
